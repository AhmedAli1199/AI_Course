{
 "cells": [
  {
   "cell_type": "code",
   "execution_count": 5,
   "metadata": {},
   "outputs": [],
   "source": [
    "import re, numpy as np, pandas as pd, matplotlib.pyplot as plt"
   ]
  },
  {
   "cell_type": "code",
   "execution_count": null,
   "metadata": {},
   "outputs": [],
   "source": []
  },
  {
   "cell_type": "code",
   "execution_count": null,
   "metadata": {},
   "outputs": [],
   "source": []
  },
  {
   "cell_type": "code",
   "execution_count": 11,
   "metadata": {},
   "outputs": [],
   "source": [
    "#Task1:\n",
    "def calculator(operation):\n",
    "    if operation == 'add':\n",
    "        return lambda a,b: a+b\n",
    "    elif operation == 'sub':\n",
    "        return lambda a,b: a-b\n",
    "    elif operation == 'mul':\n",
    "        return lambda a,b: a*b\n",
    "    elif operation == 'div':\n",
    "        return lambda a,b: a/b if (a > 0 and b > 0) else 'Division by zero error'\n",
    "    else:\n",
    "        return ValueError('Invalid operation')\n",
    "\n",
    "\n",
    "\n"
   ]
  },
  {
   "cell_type": "code",
   "execution_count": 18,
   "metadata": {},
   "outputs": [
    {
     "data": {
      "text/plain": [
       "ValueError('Invalid operation')"
      ]
     },
     "execution_count": 18,
     "metadata": {},
     "output_type": "execute_result"
    }
   ],
   "source": [
    "add_fn = calculator(\"ad\")\n",
    "add_fn\n"
   ]
  },
  {
   "cell_type": "code",
   "execution_count": 19,
   "metadata": {},
   "outputs": [
    {
     "name": "stdout",
     "output_type": "stream",
     "text": [
      "5\n"
     ]
    }
   ],
   "source": [
    "add_fn = calculator(\"add\")\n",
    "print(add_fn(2,3))"
   ]
  },
  {
   "cell_type": "code",
   "execution_count": 20,
   "metadata": {},
   "outputs": [
    {
     "data": {
      "text/plain": [
       "'Division by zero error'"
      ]
     },
     "execution_count": 20,
     "metadata": {},
     "output_type": "execute_result"
    }
   ],
   "source": [
    "div_fn = calculator(\"div\")\n",
    "div_fn(2,0)"
   ]
  },
  {
   "cell_type": "markdown",
   "metadata": {},
   "source": [
    "TASK 2"
   ]
  },
  {
   "cell_type": "code",
   "execution_count": 47,
   "metadata": {},
   "outputs": [
    {
     "data": {
      "text/plain": [
       "0     False\n",
       "1     False\n",
       "2     False\n",
       "3     False\n",
       "4     False\n",
       "5     False\n",
       "6     False\n",
       "7      True\n",
       "8     False\n",
       "9     False\n",
       "10    False\n",
       "11    False\n",
       "12    False\n",
       "13    False\n",
       "14     True\n",
       "15    False\n",
       "16    False\n",
       "17    False\n",
       "18    False\n",
       "19    False\n",
       "20     True\n",
       "21    False\n",
       "22    False\n",
       "23    False\n",
       "24    False\n",
       "25    False\n",
       "26    False\n",
       "27    False\n",
       "28     True\n",
       "29    False\n",
       "30    False\n",
       "31    False\n",
       "32    False\n",
       "33    False\n",
       "34     True\n",
       "35    False\n",
       "36    False\n",
       "37    False\n",
       "38    False\n",
       "39    False\n",
       "40    False\n",
       "41    False\n",
       "42    False\n",
       "43    False\n",
       "44    False\n",
       "45     True\n",
       "46    False\n",
       "47    False\n",
       "48    False\n",
       "49    False\n",
       "Name: Math, dtype: bool"
      ]
     },
     "execution_count": 47,
     "metadata": {},
     "output_type": "execute_result"
    }
   ],
   "source": [
    "file = pd.read_csv('C:\\\\Users\\\\Pc\\\\Downloads\\\\students_scores_data.csv')\n",
    "df  = pd.DataFrame(file)\n",
    "df.head()\n",
    "\n",
    "null_values_math = df['Math'].isnull()\n",
    "null_valued_science = df['Science'].isnull()\n",
    "null_values_eng = df['English'].isnull()\n"
   ]
  },
  {
   "cell_type": "code",
   "execution_count": null,
   "metadata": {},
   "outputs": [],
   "source": []
  },
  {
   "cell_type": "code",
   "execution_count": 48,
   "metadata": {},
   "outputs": [
    {
     "name": "stdout",
     "output_type": "stream",
     "text": [
      "77.09302325581395 75.65957446808511 76.19565217391305\n"
     ]
    }
   ],
   "source": [
    "\n",
    "#Fill the missing values with the average value of each column\n",
    "df['Math'] = pd.to_numeric(df['Math'], errors='coerce')\n",
    "math_avg = df['Math'].mean()\n",
    "science_avg = df['Science'].mean()\n",
    "english_avg = df['English'].mean()\n",
    "print(math_avg,science_avg,english_avg)\n",
    "\n",
    "\n",
    "df['Math'] = df['Math'].fillna(math_avg)\n",
    "df['Science'] = df['Science'].fillna(science_avg)\n",
    "df['English'] = df['English'].fillna(english_avg)\n",
    "\n"
   ]
  },
  {
   "cell_type": "code",
   "execution_count": 46,
   "metadata": {},
   "outputs": [
    {
     "name": "stdout",
     "output_type": "stream",
     "text": [
      "0     98.000000\n",
      "1     88.000000\n",
      "2     74.000000\n",
      "3     67.000000\n",
      "4     80.000000\n",
      "5     98.000000\n",
      "6     78.000000\n",
      "7     77.093023\n",
      "8     70.000000\n",
      "9     70.000000\n",
      "10    77.093023\n",
      "11    95.000000\n",
      "12    99.000000\n",
      "13    83.000000\n",
      "14    77.093023\n",
      "15    81.000000\n",
      "16    61.000000\n",
      "17    83.000000\n",
      "18    89.000000\n",
      "19    97.000000\n",
      "20    77.093023\n",
      "21    80.000000\n",
      "22    92.000000\n",
      "23    71.000000\n",
      "24    81.000000\n",
      "25    84.000000\n",
      "26    86.000000\n",
      "27    87.000000\n",
      "28    77.093023\n",
      "29   -66.000000\n",
      "30    62.000000\n",
      "31    96.000000\n",
      "32    66.000000\n",
      "33    80.000000\n",
      "34    77.093023\n",
      "35    98.000000\n",
      "36    77.000000\n",
      "37    63.000000\n",
      "38    84.000000\n",
      "39    73.000000\n",
      "40    68.000000\n",
      "41    85.000000\n",
      "42    61.000000\n",
      "43    79.000000\n",
      "44    87.000000\n",
      "45    77.093023\n",
      "46    67.000000\n",
      "47    94.000000\n",
      "48    73.000000\n",
      "49    76.000000\n",
      "Name: Math, dtype: float64\n"
     ]
    }
   ],
   "source": [
    "print(df['Math'])"
   ]
  },
  {
   "cell_type": "code",
   "execution_count": 49,
   "metadata": {},
   "outputs": [
    {
     "name": "stdout",
     "output_type": "stream",
     "text": [
      "    Student_ID         Name       Math     Science    English    Average\n",
      "0          101  Student_101  98.000000   95.000000  93.000000  95.333333\n",
      "1          102  Student_102  88.000000   99.000000  92.000000  93.000000\n",
      "2          103  Student_103  74.000000   63.000000  82.000000  73.000000\n",
      "3          104  Student_104  67.000000   61.000000  83.000000  70.333333\n",
      "4          105  Student_105  80.000000   65.000000  96.000000  80.333333\n",
      "5          106  Student_106  98.000000   63.000000  94.000000  85.000000\n",
      "6          107  Student_107  78.000000   88.000000 -34.000000  44.000000\n",
      "7          108  Student_108  77.093023   77.000000  81.000000  78.364341\n",
      "8          109  Student_109  70.000000   75.659574  86.000000  77.219858\n",
      "9          110  Student_110  70.000000   93.000000  94.000000  85.666667\n",
      "10         111  Student_111  77.093023   69.000000  60.000000  68.697674\n",
      "11         112  Student_112  95.000000   95.000000  94.000000  94.666667\n",
      "12         113  Student_113  99.000000   75.659574  96.000000  90.219858\n",
      "13         114  Student_114  83.000000   90.000000  73.000000  82.000000\n",
      "14         115  Student_115  77.093023   75.659574  76.195652  76.316083\n",
      "15         116  Student_116  81.000000   67.000000  60.000000  69.333333\n",
      "16         117  Student_117  61.000000   73.000000  76.195652  70.065217\n",
      "17         118  Student_118  83.000000   82.000000  85.000000  83.333333\n",
      "18         119  Student_119  89.000000   99.000000  73.000000  87.000000\n",
      "19         120  Student_120  97.000000   80.000000  98.000000  91.666667\n",
      "20         121  Student_121  77.093023   75.000000  86.000000  79.364341\n",
      "21         122  Student_122  80.000000  -77.000000  68.000000  23.666667\n",
      "22         123  Student_123  92.000000   83.000000  74.000000  83.000000\n",
      "23         124  Student_124  71.000000   85.000000  74.000000  76.666667\n",
      "24         125  Student_125  81.000000   84.000000 -85.000000  26.666667\n",
      "25         126  Student_126  84.000000  100.000000  72.000000  85.333333\n",
      "26         127  Student_127  86.000000   88.000000  91.000000  88.333333\n",
      "27         128  Student_128  87.000000   74.000000  98.000000  86.333333\n",
      "28         129  Student_129  77.093023   60.000000  91.000000  76.031008\n",
      "29         130  Student_130 -66.000000   84.000000  63.000000  27.000000\n",
      "30         131  Student_131  62.000000   66.000000  89.000000  72.333333\n",
      "31         132  Student_132  96.000000   68.000000  96.000000  86.666667\n",
      "32         133  Student_133  66.000000   83.000000  76.195652  75.065217\n",
      "33         134  Student_134  80.000000   60.000000  98.000000  79.333333\n",
      "34         135  Student_135  77.093023   67.000000  74.000000  72.697674\n",
      "35         136  Student_136  98.000000   83.000000  88.000000  89.666667\n",
      "36         137  Student_137  77.000000   70.000000  76.195652  74.398551\n",
      "37         138  Student_138  63.000000   76.000000  72.000000  70.333333\n",
      "38         139  Student_139  84.000000   67.000000  91.000000  80.666667\n",
      "39         140  Student_140  73.000000   94.000000  66.000000  77.666667\n",
      "40         141  Student_141  68.000000   94.000000  81.000000  81.000000\n",
      "41         142  Student_142  85.000000   92.000000  87.000000  88.000000\n",
      "42         143  Student_143  61.000000   64.000000  61.000000  62.000000\n",
      "43         144  Student_144  79.000000   98.000000  65.000000  80.666667\n",
      "44         145  Student_145  87.000000  100.000000  87.000000  91.333333\n",
      "45         146  Student_146  77.093023   87.000000  87.000000  83.697674\n",
      "46         147  Student_147  67.000000   66.000000  79.000000  70.666667\n",
      "47         148  Student_148  94.000000   68.000000  89.000000  83.666667\n",
      "48         149  Student_149  73.000000   67.000000  70.000000  70.000000\n",
      "49         150  Student_150  76.000000   71.000000  87.000000  78.000000\n"
     ]
    }
   ],
   "source": [
    "#Calculate the average score:\n",
    "df['Average'] = df[['Math','Science','English']].mean(axis=1)\n",
    "print(df)"
   ]
  },
  {
   "cell_type": "code",
   "execution_count": 56,
   "metadata": {},
   "outputs": [
    {
     "name": "stdout",
     "output_type": "stream",
     "text": [
      "   Student_ID         Name  Math  Science  English    Average  Pass_Status\n",
      "0         101  Student_101  98.0     95.0     93.0  95.333333            0\n",
      "1         102  Student_102  88.0     99.0     92.0  93.000000            0\n",
      "2         103  Student_103  74.0     63.0     82.0  73.000000            1\n",
      "3         104  Student_104  67.0     61.0     83.0  70.333333            1\n",
      "4         105  Student_105  80.0     65.0     96.0  80.333333            0\n"
     ]
    }
   ],
   "source": [
    "df['Pass_Status'] = [1 if i < 75 else 0 for i in df['Average']]\n",
    "print(df.head())"
   ]
  },
  {
   "cell_type": "code",
   "execution_count": 57,
   "metadata": {},
   "outputs": [
    {
     "name": "stdout",
     "output_type": "stream",
     "text": [
      "Number of pass students: 34\n",
      "Percentage of pass students: 68.0\n"
     ]
    }
   ],
   "source": [
    "#Count the total number of students pass and calculate the percentage of pass students\n",
    "pass_count = 0 \n",
    "for i in df['Pass_Status']:\n",
    "    if i == 0:\n",
    "        pass_count += 1\n",
    "pass_percentage = (pass_count/len(df['Pass_Status']))*100\n",
    "print('Number of pass students:' , pass_count)\n",
    "print('Percentage of pass students:', pass_percentage)"
   ]
  },
  {
   "cell_type": "code",
   "execution_count": 58,
   "metadata": {},
   "outputs": [
    {
     "name": "stdout",
     "output_type": "stream",
     "text": [
      "Top 3 Students     Student_ID         Name  Math  Science  English    Average  Pass_Status  \\\n",
      "0          101  Student_101  98.0     95.0     93.0  95.333333            0   \n",
      "11         112  Student_112  95.0     95.0     94.0  94.666667            0   \n",
      "1          102  Student_102  88.0     99.0     92.0  93.000000            0   \n",
      "\n",
      "    Total  \n",
      "0   286.0  \n",
      "11  284.0  \n",
      "1   279.0  \n"
     ]
    }
   ],
   "source": [
    "#Top 3 students based on total marks\n",
    "df['Total'] = df['Math'] + df['Science'] + df['English']\n",
    "df = df.sort_values(by='Total', ascending=False)\n",
    "print('Top 3 Students',df.head(3))"
   ]
  },
  {
   "cell_type": "code",
   "execution_count": 59,
   "metadata": {},
   "outputs": [
    {
     "name": "stdout",
     "output_type": "stream",
     "text": [
      "    Student_ID         Name       Math     Science    English    Average  \\\n",
      "0          101  Student_101  98.000000   95.000000  93.000000  95.333333   \n",
      "11         112  Student_112  95.000000   95.000000  94.000000  94.666667   \n",
      "1          102  Student_102  88.000000   99.000000  92.000000  93.000000   \n",
      "19         120  Student_120  97.000000   80.000000  98.000000  91.666667   \n",
      "44         145  Student_145  87.000000  100.000000  87.000000  91.333333   \n",
      "12         113  Student_113  99.000000   75.659574  96.000000  90.219858   \n",
      "35         136  Student_136  98.000000   83.000000  88.000000  89.666667   \n",
      "26         127  Student_127  86.000000   88.000000  91.000000  88.333333   \n",
      "41         142  Student_142  85.000000   92.000000  87.000000  88.000000   \n",
      "18         119  Student_119  89.000000   99.000000  73.000000  87.000000   \n",
      "31         132  Student_132  96.000000   68.000000  96.000000  86.666667   \n",
      "27         128  Student_128  87.000000   74.000000  98.000000  86.333333   \n",
      "9          110  Student_110  70.000000   93.000000  94.000000  85.666667   \n",
      "25         126  Student_126  84.000000  100.000000  72.000000  85.333333   \n",
      "5          106  Student_106  98.000000   63.000000  94.000000  85.000000   \n",
      "45         146  Student_146  77.093023   87.000000  87.000000  83.697674   \n",
      "47         148  Student_148  94.000000   68.000000  89.000000  83.666667   \n",
      "17         118  Student_118  83.000000   82.000000  85.000000  83.333333   \n",
      "22         123  Student_123  92.000000   83.000000  74.000000  83.000000   \n",
      "13         114  Student_114  83.000000   90.000000  73.000000  82.000000   \n",
      "40         141  Student_141  68.000000   94.000000  81.000000  81.000000   \n",
      "38         139  Student_139  84.000000   67.000000  91.000000  80.666667   \n",
      "43         144  Student_144  79.000000   98.000000  65.000000  80.666667   \n",
      "4          105  Student_105  80.000000   65.000000  96.000000  80.333333   \n",
      "20         121  Student_121  77.093023   75.000000  86.000000  79.364341   \n",
      "33         134  Student_134  80.000000   60.000000  98.000000  79.333333   \n",
      "7          108  Student_108  77.093023   77.000000  81.000000  78.364341   \n",
      "49         150  Student_150  76.000000   71.000000  87.000000  78.000000   \n",
      "39         140  Student_140  73.000000   94.000000  66.000000  77.666667   \n",
      "8          109  Student_109  70.000000   75.659574  86.000000  77.219858   \n",
      "23         124  Student_124  71.000000   85.000000  74.000000  76.666667   \n",
      "14         115  Student_115  77.093023   75.659574  76.195652  76.316083   \n",
      "28         129  Student_129  77.093023   60.000000  91.000000  76.031008   \n",
      "32         133  Student_133  66.000000   83.000000  76.195652  75.065217   \n",
      "36         137  Student_137  77.000000   70.000000  76.195652  74.398551   \n",
      "2          103  Student_103  74.000000   63.000000  82.000000  73.000000   \n",
      "34         135  Student_135  77.093023   67.000000  74.000000  72.697674   \n",
      "30         131  Student_131  62.000000   66.000000  89.000000  72.333333   \n",
      "46         147  Student_147  67.000000   66.000000  79.000000  70.666667   \n",
      "3          104  Student_104  67.000000   61.000000  83.000000  70.333333   \n",
      "37         138  Student_138  63.000000   76.000000  72.000000  70.333333   \n",
      "16         117  Student_117  61.000000   73.000000  76.195652  70.065217   \n",
      "48         149  Student_149  73.000000   67.000000  70.000000  70.000000   \n",
      "15         116  Student_116  81.000000   67.000000  60.000000  69.333333   \n",
      "10         111  Student_111  77.093023   69.000000  60.000000  68.697674   \n",
      "42         143  Student_143  61.000000   64.000000  61.000000  62.000000   \n",
      "6          107  Student_107  78.000000   88.000000 -34.000000  44.000000   \n",
      "29         130  Student_130 -66.000000   84.000000  63.000000  27.000000   \n",
      "24         125  Student_125  81.000000   84.000000 -85.000000  26.666667   \n",
      "21         122  Student_122  80.000000  -77.000000  68.000000  23.666667   \n",
      "\n",
      "    Pass_Status       Total  \n",
      "0             0  286.000000  \n",
      "11            0  284.000000  \n",
      "1             0  279.000000  \n",
      "19            0  275.000000  \n",
      "44            0  274.000000  \n",
      "12            0  270.659574  \n",
      "35            0  269.000000  \n",
      "26            0  265.000000  \n",
      "41            0  264.000000  \n",
      "18            0  261.000000  \n",
      "31            0  260.000000  \n",
      "27            0  259.000000  \n",
      "9             0  257.000000  \n",
      "25            0  256.000000  \n",
      "5             0  255.000000  \n",
      "45            0  251.093023  \n",
      "47            0  251.000000  \n",
      "17            0  250.000000  \n",
      "22            0  249.000000  \n",
      "13            0  246.000000  \n",
      "40            0  243.000000  \n",
      "38            0  242.000000  \n",
      "43            0  242.000000  \n",
      "4             0  241.000000  \n",
      "20            0  238.093023  \n",
      "33            0  238.000000  \n",
      "7             0  235.093023  \n",
      "49            0  234.000000  \n",
      "39            0  233.000000  \n",
      "8             0  231.659574  \n",
      "23            0  230.000000  \n",
      "14            0  228.948250  \n",
      "28            0  228.093023  \n",
      "32            0  225.195652  \n",
      "36            1  223.195652  \n",
      "2             1  219.000000  \n",
      "34            1  218.093023  \n",
      "30            1  217.000000  \n",
      "46            1  212.000000  \n",
      "3             1  211.000000  \n",
      "37            1  211.000000  \n",
      "16            1  210.195652  \n",
      "48            1  210.000000  \n",
      "15            1  208.000000  \n",
      "10            1  206.093023  \n",
      "42            1  186.000000  \n",
      "6             1  132.000000  \n",
      "29            1   81.000000  \n",
      "24            1   80.000000  \n",
      "21            1   71.000000  \n"
     ]
    }
   ],
   "source": [
    "print(df)"
   ]
  },
  {
   "cell_type": "code",
   "execution_count": null,
   "metadata": {},
   "outputs": [],
   "source": []
  },
  {
   "cell_type": "markdown",
   "metadata": {},
   "source": [
    "Task 3\n"
   ]
  },
  {
   "cell_type": "code",
   "execution_count": null,
   "metadata": {},
   "outputs": [
    {
     "name": "stderr",
     "output_type": "stream",
     "text": [
      "c:\\Users\\Pc\\anaconda3\\Lib\\site-packages\\matplotlib\\collections.py:996: RuntimeWarning: invalid value encountered in sqrt\n",
      "  scale = np.sqrt(self._sizes) * dpi / 72.0 * self._factor\n"
     ]
    },
    {
     "data": {
      "image/png": "[encoded data removed]",
      "text/plain": [
       "<Figure size 640x480 with 1 Axes>"
      ]
     },
     "metadata": {},
     "output_type": "display_data"
    }
   ],
   "source": [
    "\n",
    "colors = np.where(df['English'] >= 90, 'r', np.where(df['English'] >= 75, 'g', 'b'))\n",
    "legend = ['Red: Excellent', 'Green: Good','Blue: Average']\n",
    "\n",
    "plt.scatter(df['Math'],df['Science'], color=colors,s=df['English'],label='Math vs Science')\n",
    "plt.xlabel('Math')\n",
    "plt.ylabel('Science')\n",
    "plt.legend(legend)\n",
    "plt.title('Math vs Science')\n",
    "plt.show()"
   ]
  },
  {
   "cell_type": "code",
   "execution_count": null,
   "metadata": {},
   "outputs": [],
   "source": []
  },
  {
   "cell_type": "markdown",
   "metadata": {},
   "source": [
    "Task4"
   ]
  },
  {
   "cell_type": "code",
   "execution_count": 70,
   "metadata": {},
   "outputs": [
    {
     "name": "stdout",
     "output_type": "stream",
     "text": [
      "[57 76 92 34 40 81  5 80 52 51] [88 54 72 37 71  6 33 90 49 51]\n"
     ]
    }
   ],
   "source": [
    "#Create two numpy arrays of size 10 with random values:\n",
    "arr1 = np.random.randint(1,100,10)\n",
    "arr2 = np.random.randint(1,100,10)\n",
    "print(arr1,arr2)"
   ]
  },
  {
   "cell_type": "code",
   "execution_count": 71,
   "metadata": {},
   "outputs": [
    {
     "name": "stdout",
     "output_type": "stream",
     "text": [
      "[145 130 164  71 111  87  38 170 101 102] [-31  22  20  -3 -31  75 -28 -10   3   0] [5016 4104 6624 1258 2840  486  165 7200 2548 2601] [ 0.64772727  1.40740741  1.27777778  0.91891892  0.56338028 13.5\n",
      "  0.15151515  0.88888889  1.06122449  1.        ]\n"
     ]
    }
   ],
   "source": [
    "#Perform element-wise addition, subtraction, multiplication, and division on the two arrays.\n",
    "addition = arr1 + arr2\n",
    "subtraction = arr1 - arr2\n",
    "multiplication = arr1 * arr2\n",
    "division = arr1 / arr2\n",
    "print(addition,subtraction,multiplication,division)"
   ]
  },
  {
   "cell_type": "code",
   "execution_count": 72,
   "metadata": {},
   "outputs": [
    {
     "name": "stdout",
     "output_type": "stream",
     "text": [
      "dot product:  32842\n"
     ]
    }
   ],
   "source": [
    "#dot product:\n",
    "dot_product = np.dot(arr1,arr2)\n",
    "print(\"dot product: \",dot_product)"
   ]
  },
  {
   "cell_type": "markdown",
   "metadata": {},
   "source": [
    "Task5"
   ]
  },
  {
   "cell_type": "code",
   "execution_count": 73,
   "metadata": {},
   "outputs": [
    {
     "name": "stdout",
     "output_type": "stream",
     "text": [
      "Array addition:  [[0.48966116 1.00593516 1.39380527 0.97863609]\n",
      " [1.26811607 0.77750923 0.65129815 1.60371809]\n",
      " [1.03885026 1.53125974 0.61919942 1.15532686]\n",
      " [1.44159731 0.54728546 1.08773574 1.38108682]] Array subtraction [[-0.12971808 -0.57292776 -0.43509348  0.341322  ]\n",
      " [-0.22551002 -0.77066854  0.53798527 -0.22935875]\n",
      " [-0.2038673  -0.41415341 -0.27745875  0.67512435]\n",
      " [-0.4513459   0.0431485   0.58180917  0.23252551]]\n",
      "multiplication:  [[1.13992652 0.94230085 0.55870085 0.74989031]\n",
      " [1.18387839 1.16580889 0.91732541 0.70665997]\n",
      " [1.5188344  1.15885693 0.72154508 1.21159458]\n",
      " [1.6561195  1.63475105 1.04783844 1.09211608]]\n"
     ]
    }
   ],
   "source": [
    "#random arrays:\n",
    "array1 = np.random.rand(4,4)\n",
    "array2 = np.random.rand(4,4)\n",
    "\n",
    "#addition and subtraction element wise:\n",
    "array_addition = array1 + array2\n",
    "array_subtraction = array1 - array2\n",
    "print(\"Array addition: \", array_addition,\"Array subtraction\",array_subtraction)\n",
    "\n",
    "array_multiplication = np.matmul(array1,array2)\n",
    "print(\"multiplication: \",array_multiplication)\n",
    "\n"
   ]
  },
  {
   "cell_type": "code",
   "execution_count": 76,
   "metadata": {},
   "outputs": [
    {
     "name": "stdout",
     "output_type": "stream",
     "text": [
      "Row sum array1:  [1.53581018 1.80654475 2.06214059 2.4319213 ] Row sum array2:  [2.3322275  2.49409679 2.2824957  2.02578403]\n",
      "Overall sum:  16.97102083431685 Overall mean:  1.060688802144803 Overall std:  0.5489458053235737\n"
     ]
    }
   ],
   "source": [
    "#Find the row-wise sum of both arrays.\n",
    "row_sum1 = np.sum(array1,axis=1)\n",
    "row_sum2 = np.sum(array2,axis=1)\n",
    "\n",
    "print(\"Row sum array1: \",row_sum,\"Row sum array2: \",row_sum2)\n",
    "\n",
    "\n",
    "\n",
    "\n",
    "# Compute the overall sum, mean, and standard deviation of the combined arrays.\n",
    "overall_sum = np.sum(array1) + np.sum(array2)\n",
    "overall_mean = np.mean(array1) + np.mean(array2)\n",
    "overall_std = np.std(array1) + np.std(array2)\n",
    "print(\"Overall sum: \",overall_sum,\"Overall mean: \",overall_mean,\"Overall std: \",overall_std)\n",
    "\n",
    "\n"
   ]
  },
  {
   "cell_type": "markdown",
   "metadata": {},
   "source": [
    "TASK 6"
   ]
  },
  {
   "cell_type": "code",
   "execution_count": 94,
   "metadata": {},
   "outputs": [
    {
     "data": {
      "text/plain": [
       "array([[81, 93, 22, 97, 45, 85],\n",
       "       [ 1, 86, 82, 75, 99, 77],\n",
       "       [ 4, 24, 89, 53, 51, 67],\n",
       "       [60, 40, 97, 29, 53, 36],\n",
       "       [64, 57,  9, 28, 60, 89],\n",
       "       [32, 55,  1, 25, 75, 56]])"
      ]
     },
     "execution_count": 94,
     "metadata": {},
     "output_type": "execute_result"
    }
   ],
   "source": [
    "rand_arr = np.random.randint(1,100,(6,6))\n",
    "rand_arr"
   ]
  },
  {
   "cell_type": "code",
   "execution_count": 95,
   "metadata": {},
   "outputs": [
    {
     "name": "stdout",
     "output_type": "stream",
     "text": [
      "Row mean:  [70.5        70.         48.         52.5        51.16666667 40.66666667]\n"
     ]
    }
   ],
   "source": [
    "row_mean1 = np.mean(rand_arr,axis=1)\n",
    "\n",
    "print(\"Row mean: \",row_mean1)"
   ]
  },
  {
   "cell_type": "code",
   "execution_count": 96,
   "metadata": {},
   "outputs": [
    {
     "name": "stdout",
     "output_type": "stream",
     "text": [
      "Max:  [81 93 97 97 99 89] Min:  [ 1 24  1 25 45 36] Mean:  [40.33333333 59.16666667 50.         51.16666667 63.83333333 68.33333333]\n",
      "Standard deviation:  [30.37908637 24.12064584 40.04164499 27.03341554 18.3159008  18.16284363]\n"
     ]
    }
   ],
   "source": [
    "#mean max and min column wise:\n",
    "max = np.max(rand_arr,axis=0)\n",
    "min = np.min(rand_arr,axis=0)\n",
    "mean = np.mean(rand_arr,axis=0)\n",
    "std = np.std(rand_arr,axis=0)\n",
    "\n",
    "print(\"Max: \",max,\"Min: \",min,\"Mean: \",mean)\n",
    "print(\"Standard deviation: \",std)"
   ]
  },
  {
   "cell_type": "code",
   "execution_count": 97,
   "metadata": {},
   "outputs": [
    {
     "name": "stdout",
     "output_type": "stream",
     "text": [
      "[[81 93 -1 97 45 85]\n",
      " [-1 86 82 75 99 77]\n",
      " [-1 24 89 53 51 67]\n",
      " [60 40 97 29 53 36]\n",
      " [64 57 -1 28 60 89]\n",
      " [32 55 -1 25 75 56]]\n"
     ]
    }
   ],
   "source": [
    "\n",
    "#Identify outliers and replace with -1:\n",
    "for i in range(len(rand_arr)):\n",
    "    for j in range(len(rand_arr[i])):\n",
    "        if rand_arr[j][i] > (2*std[i]+mean[i]) or rand_arr[j][i] < (2*std[i]-mean[i]):\n",
    "            rand_arr[j][i] = -1\n",
    "print(rand_arr)"
   ]
  },
  {
   "cell_type": "code",
   "execution_count": 102,
   "metadata": {},
   "outputs": [
    {
     "name": "stdout",
     "output_type": "stream",
     "text": [
      "[0 1 3]\n",
      "66.66666666666667\n",
      "69.66666666666667\n",
      "52.5\n",
      "[3 0 1]\n"
     ]
    }
   ],
   "source": [
    "# Masked Array:\n",
    "# Select students who scored above 90 in at least one subject and calculate their\n",
    "# average score.\n",
    "students = []\n",
    "for i in range(6):\n",
    "    for j in range(6):\n",
    "        if rand_arr[i][j] > 90:\n",
    "            students.append(i)\n",
    "\n",
    "students = np.unique(students)\n",
    "\n",
    "print(students)\n",
    "for i in students:\n",
    "    print(np.mean(rand_arr[i]))\n",
    "\n",
    "\n",
    "\n",
    "# Top n Students:\n",
    "def top_n_students(n):\n",
    "    total = np.sum(rand_arr,axis=1)\n",
    "    total = np.argsort(total)\n",
    "    return total[-n:]\n",
    "\n",
    "print(top_n_students(3))"
   ]
  },
  {
   "cell_type": "code",
   "execution_count": null,
   "metadata": {},
   "outputs": [],
   "source": []
  }
 ],
 "metadata": {
  "kernelspec": {
   "display_name": "base",
   "language": "python",
   "name": "python3"
  },
  "language_info": {
   "codemirror_mode": {
    "name": "ipython",
    "version": 3
   },
   "file_extension": ".py",
   "mimetype": "text/x-python",
   "name": "python",
   "nbconvert_exporter": "python",
   "pygments_lexer": "ipython3",
   "version": "3.12.4"
  }
 },
 "nbformat": 4,
 "nbformat_minor": 2
}
