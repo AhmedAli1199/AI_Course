{
 "cells": [
  {
   "cell_type": "markdown",
   "metadata": {},
   "source": [
    "Ahmed Ali 22i-0825 E\n",
    "\n",
    "Q1 Local Beam Search"
   ]
  },
  {
   "cell_type": "code",
   "execution_count": null,
   "metadata": {},
   "outputs": [],
   "source": [
    "\n",
    "\n",
    "def initial_state(graph, pre_assigned):\n",
    "    state = []\n",
    "    for key in graph.keys():\n",
    "        if key in pre_assigned:\n",
    "            state.append(pre_assigned[key])\n",
    "        else:\n",
    "            state.append(None)\n",
    "    return state\n",
    "\n",
    "\n",
    "def beam_search(graph, initial_state, k):\n",
    "    \n",
    "\n",
    "    \n",
    "\n",
    "\n",
    "def main():\n",
    "    graph = {\n",
    "        0: [1, 2],\n",
    "        1: [0, 2, 3],\n",
    "        2: [0, 1, 4],\n",
    "        3: [1, 4],\n",
    "        4: [2, 3, 5],\n",
    "        5: [4]\n",
    "    }\n",
    "\n",
    "\n",
    "    pre_assigned = {\n",
    "        0: 0,  # Vertex 0 is color 0 (e.g., red)\n",
    "        5: 1   # Vertex 5 is color 1 (e.g., blue)\n",
    "    }\n",
    "\n",
    "if __name__ == '__main__':\n",
    "    main()"
   ]
  },
  {
   "cell_type": "code",
   "execution_count": null,
   "metadata": {},
   "outputs": [],
   "source": []
  }
 ],
 "metadata": {
  "kernelspec": {
   "display_name": "base",
   "language": "python",
   "name": "python3"
  },
  "language_info": {
   "name": "python",
   "version": "3.12.4"
  }
 },
 "nbformat": 4,
 "nbformat_minor": 2
}
